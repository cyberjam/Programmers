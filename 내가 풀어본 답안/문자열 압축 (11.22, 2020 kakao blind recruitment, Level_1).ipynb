{
 "cells": [
  {
   "cell_type": "markdown",
   "metadata": {},
   "source": [
    "# 프로그래머스\n",
    "### kakao blind recruitment\n",
    "### Level_1"
   ]
  },
  {
   "cell_type": "markdown",
   "metadata": {},
   "source": [
    "|날짜|\n",
    "|---------:|\n",
    "|2019.11.22.|"
   ]
  },
  {
   "cell_type": "code",
   "execution_count": 1,
   "metadata": {},
   "outputs": [],
   "source": [
    "def solution(s):\n",
    "    answer = len(s)\n",
    "    for i in range(1, int(len(s)/2)+1):\n",
    "        sp = []\n",
    "        for k in range(0,len(s),i):\n",
    "            sp.append(s[k:k+i])\n",
    "        # print(sp)\n",
    "        count = 1\n",
    "        ss=''\n",
    "        for i in range(len(sp)-1):\n",
    "            if sp[i] == sp[i+1]:\n",
    "                count += 1 \n",
    "            else:\n",
    "                if count ==1:\n",
    "                    ss += sp[i]\n",
    "                    count = 1\n",
    "                else:\n",
    "                    ss += str(count)+sp[i]\n",
    "                    count = 1\n",
    "        if count ==1:\n",
    "            ss += sp[-1]\n",
    "        else:\n",
    "            ss += str(count)+sp[i]\n",
    "        answer = min(len(ss), answer)\n",
    "    return answer"
   ]
  },
  {
   "cell_type": "code",
   "execution_count": 3,
   "metadata": {},
   "outputs": [
    {
     "data": {
      "text/plain": [
       "14"
      ]
     },
     "execution_count": 3,
     "metadata": {},
     "output_type": "execute_result"
    }
   ],
   "source": [
    "solution('abcabcabcabcdededededede')"
   ]
  },
  {
   "cell_type": "markdown",
   "metadata": {},
   "source": [
    "연습문제만 풀다가 카카오꺼를 푸는데 Level_1인 것치고 생각보다 난이도가 너무 높아서 당황했다..\n",
    "\n",
    "그래도 풀려서 다행이다!"
    "\n",
    "그리고... 오늘이 Level_1의 마지막 문제였다!!! 드디어 Level_1 끝!!!!!!"
   ]
  },
  {
   "cell_type": "code",
   "execution_count": null,
   "metadata": {},
   "outputs": [],
   "source": []
  }
 ],
 "metadata": {
  "kernelspec": {
   "display_name": "Python 3",
   "language": "python",
   "name": "python3"
  },
  "language_info": {
   "codemirror_mode": {
    "name": "ipython",
    "version": 3
   },
   "file_extension": ".py",
   "mimetype": "text/x-python",
   "name": "python",
   "nbconvert_exporter": "python",
   "pygments_lexer": "ipython3",
   "version": "3.7.3"
  }
 },
 "nbformat": 4,
 "nbformat_minor": 2
}
