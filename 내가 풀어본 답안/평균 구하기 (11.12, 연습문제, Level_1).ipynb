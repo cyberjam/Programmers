{
 "cells": [
  {
   "cell_type": "markdown",
   "metadata": {},
   "source": [
    "# 프로그래머스\n",
    "### 연습문제\n",
    "### Level_1"
   ]
  },
  {
   "cell_type": "markdown",
   "metadata": {},
   "source": [
    "|날짜|\n",
    "|---------:|\n",
    "|2019.11.12.|"
   ]
  },
  {
   "cell_type": "code",
   "execution_count": 1,
   "metadata": {},
   "outputs": [],
   "source": [
    "# numpy를 활용하면 mean 함수를 그대로 사용할 수 있기에 한번 사용해 보았다.\n",
    "import numpy as np\n",
    "\n",
    "def solution(arr):\n",
    "    answer = np.mean(arr)\n",
    "    return answer"
   ]
  },
  {
   "cell_type": "code",
   "execution_count": 2,
   "metadata": {},
   "outputs": [],
   "source": [
    "# 만약 numpy 모듈을 사용하지 않는다면 다음과 같이 할 수 있을 것 같다.\n",
    "def solution(arr):\n",
    "    return sum(arr)/len(arr)\n",
    "\n",
    "# 문제에서 arr의 길이가 1 이상이라고 전제를 뒀기 때문에 zerodivision에 대하여 고려하지 않았다."
   ]
  },
  {
   "cell_type": "code",
   "execution_count": 3,
   "metadata": {},
   "outputs": [
    {
     "data": {
      "text/plain": [
       "2.5"
      ]
     },
     "execution_count": 3,
     "metadata": {},
     "output_type": "execute_result"
    }
   ],
   "source": [
    "solution([1,2,3,4])"
   ]
  }
 ],
 "metadata": {
  "kernelspec": {
   "display_name": "Python 3",
   "language": "python",
   "name": "python3"
  },
  "language_info": {
   "codemirror_mode": {
    "name": "ipython",
    "version": 3
   },
   "file_extension": ".py",
   "mimetype": "text/x-python",
   "name": "python",
   "nbconvert_exporter": "python",
   "pygments_lexer": "ipython3",
   "version": "3.7.3"
  }
 },
 "nbformat": 4,
 "nbformat_minor": 2
}
