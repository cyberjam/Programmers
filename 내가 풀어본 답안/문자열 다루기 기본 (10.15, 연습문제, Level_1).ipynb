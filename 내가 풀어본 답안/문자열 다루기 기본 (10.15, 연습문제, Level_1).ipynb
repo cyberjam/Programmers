{
 "cells": [
  {
   "cell_type": "markdown",
   "metadata": {},
   "source": [
    "# 프로그래머스\n",
    "### 연습문제\n",
    "### Level_1"
   ]
  },
  {
   "cell_type": "markdown",
   "metadata": {},
   "source": [
    "|날짜|\n",
    "|---------:|\n",
    "|2019.10.05.|"
   ]
  },
  {
   "cell_type": "code",
   "execution_count": 1,
   "metadata": {},
   "outputs": [
    {
     "ename": "SyntaxError",
     "evalue": "invalid syntax (<ipython-input-1-deb357344a8a>, line 5)",
     "output_type": "error",
     "traceback": [
      "\u001b[1;36m  File \u001b[1;32m\"<ipython-input-1-deb357344a8a>\"\u001b[1;36m, line \u001b[1;32m5\u001b[0m\n\u001b[1;33m    |날짜|\u001b[0m\n\u001b[1;37m    ^\u001b[0m\n\u001b[1;31mSyntaxError\u001b[0m\u001b[1;31m:\u001b[0m invalid syntax\n"
     ]
    }
   ],
   "source": [
    "def solution(s):\n",
    "    if (len(s) == 4) or (len(s) == 6):\n",
    "        answer = True\n",
    "    else:\n",
    "        answer = False\n",
    "# try문을 먼저 실행해서 except문에 적어둔 오류가 발생하면 except문을 실행한다.\n",
    "    try:\n",
    "        int(s)\n",
    "    except ValueError:\n",
    "        answer = False\n",
    "\n",
    "    return answer"
   ]
  },
  {
   "cell_type": "markdown",
   "metadata": {},
   "source": [
    "여기서 원래의 코드는 아래와 같았으나, 테스트 5,6에서 런타임오류가 나서 위로 수정하였다."
   ]
  },
  {
   "cell_type": "code",
   "execution_count": 3,
   "metadata": {},
   "outputs": [],
   "source": [
    "def solution(s):\n",
    "    try:\n",
    "        int(s)\n",
    "        if (len(s) == 4) or (len(s) == 6):\n",
    "            answer = True\n",
    "        else:\n",
    "            answer = False\n",
    "    except ValueError:\n",
    "        answer = False\n",
    "\n",
    "    return answer"
   ]
  },
  {
   "cell_type": "code",
   "execution_count": null,
   "metadata": {},
   "outputs": [],
   "source": [
    "그러나 어째서 오류가 났는지 아직 모르겠다."
   ]
  }
 ],
 "metadata": {
  "kernelspec": {
   "display_name": "Python 3",
   "language": "python",
   "name": "python3"
  },
  "language_info": {
   "codemirror_mode": {
    "name": "ipython",
    "version": 3
   },
   "file_extension": ".py",
   "mimetype": "text/x-python",
   "name": "python",
   "nbconvert_exporter": "python",
   "pygments_lexer": "ipython3",
   "version": "3.7.3"
  }
 },
 "nbformat": 4,
 "nbformat_minor": 2
}
