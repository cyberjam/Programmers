{
 "cells": [
  {
   "cell_type": "markdown",
   "metadata": {},
   "source": [
    "# 프로그래머스 \n",
    "\n",
    "### 정렬\n",
    "### level_1"
   ]
  },
  {
   "cell_type": "markdown",
   "metadata": {},
   "source": [
    "|날짜|\n",
    "|--------------:|\n",
    "| 2019.09.26|"
   ]
  },
  {
   "cell_type": "code",
   "execution_count": 3,
   "metadata": {},
   "outputs": [],
   "source": [
    "def solution(answers):\n",
    "    one_list = [1,2,3,4,5]\n",
    "    two_list = [2,1,2,3,2,4,2,5] \n",
    "    three_list = [3,3,1,1,2,2,4,4,5,5] \n",
    "        \n",
    "    \n",
    "    one,two,three = 0,0,0\n",
    "    for i in range(len(answers)):\n",
    "        if one_list[i % len(one_list)] == answers[i]:\n",
    "            one+=1\n",
    "        if two_list[i % len(two_list)] == answers[i]:\n",
    "            two+=1\n",
    "        if three_list[i % len(three_list)] == answers[i]:\n",
    "            three+=1\n",
    "        \n",
    "    k = [one,two,three ]\n",
    "    max_value = max(k)\n",
    "    \n",
    "    answer = []\n",
    "    for i in range(3):\n",
    "        if k[i] == max_value:\n",
    "            answer.append(i+1)\n",
    "    return answer\n"
   ]
  },
  {
   "cell_type": "code",
   "execution_count": 4,
   "metadata": {},
   "outputs": [
    {
     "data": {
      "text/plain": [
       "[1]"
      ]
     },
     "execution_count": 4,
     "metadata": {},
     "output_type": "execute_result"
    }
   ],
   "source": [
    "solution([1,2,3,4,5])"
   ]
  },
  {
   "cell_type": "code",
   "execution_count": null,
   "metadata": {},
   "outputs": [],
   "source": []
  }
 ],
 "metadata": {
  "kernelspec": {
   "display_name": "Python 3",
   "language": "python",
   "name": "python3"
  },
  "language_info": {
   "codemirror_mode": {
    "name": "ipython",
    "version": 3
   },
   "file_extension": ".py",
   "mimetype": "text/x-python",
   "name": "python",
   "nbconvert_exporter": "python",
   "pygments_lexer": "ipython3",
   "version": "3.7.3"
  }
 },
 "nbformat": 4,
 "nbformat_minor": 2
}
