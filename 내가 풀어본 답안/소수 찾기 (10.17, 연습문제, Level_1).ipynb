{
 "cells": [
  {
   "cell_type": "markdown",
   "metadata": {},
   "source": [
    "# 프로그래머스\n",
    "### 연습문제\n",
    "### Level_1"
   ]
  },
  {
   "cell_type": "markdown",
   "metadata": {},
   "source": [
    "|날짜|\n",
    "|---------:|\n",
    "|2019.10.17.|"
   ]
  },
  {
   "cell_type": "code",
   "execution_count": 1,
   "metadata": {},
   "outputs": [],
   "source": [
    "# 해당문제는 너무 안풀려서 구글링... 다들 대단해요\n",
    "def solution(n):\n",
    "    num=set(range(2,n+1))    #set으로 해당 range내의 숫자들을 담아줬다.\n",
    "\n",
    "    for i in range(2,n+1):      #해당 숫자까지 반복문을 돌며\n",
    "        if i in num:            #i가 num안에 있으면(첫번째 실행결과로 2의 배수는 사라진다)\n",
    "\n",
    "            num-=set(range(2*i,n+1,i))   #차집합을 이용해서... 2*i부터 시작해 지워나간다 (2*i부터 시작하면 2,3,이런 애들이 지워질염려 없음)\n",
    "    return len(num)"
   ]
  },
  {
   "cell_type": "code",
   "execution_count": 3,
   "metadata": {},
   "outputs": [
    {
     "data": {
      "text/plain": [
       "4"
      ]
     },
     "execution_count": 3,
     "metadata": {},
     "output_type": "execute_result"
    }
   ],
   "source": [
    "solution(10)"
   ]
  },
  {
   "cell_type": "code",
   "execution_count": null,
   "metadata": {},
   "outputs": [],
   "source": [
    "# 해당 코드가 스스로 했던 코드이나, 너무 비효율적이었던 것으로 보임.\n",
    "def solution(n):\n",
    "    answer = 0\n",
    "    for i in range(2, round(n+1**0.5)): \n",
    "        count = 0\n",
    "        for j in range(2, round(n+1**0.5)):\n",
    "            if i % j == 0:\n",
    "                count += 1\n",
    "                if count >= 2:\n",
    "                    break\n",
    "            if i <= j:\n",
    "                break\n",
    "        if count == 1:\n",
    "            answer += 1\n",
    "    return answer"
   ]
  }
 ],
 "metadata": {
  "kernelspec": {
   "display_name": "Python 3",
   "language": "python",
   "name": "python3"
  },
  "language_info": {
   "codemirror_mode": {
    "name": "ipython",
    "version": 3
   },
   "file_extension": ".py",
   "mimetype": "text/x-python",
   "name": "python",
   "nbconvert_exporter": "python",
   "pygments_lexer": "ipython3",
   "version": "3.7.3"
  }
 },
 "nbformat": 4,
 "nbformat_minor": 2
}
