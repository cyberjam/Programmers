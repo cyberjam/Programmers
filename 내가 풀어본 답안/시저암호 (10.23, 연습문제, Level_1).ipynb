{
 "cells": [
  {
   "cell_type": "markdown",
   "metadata": {},
   "source": [
    "# 프로그래머스\n",
    "### 연습문제\n",
    "### Level_1"
   ]
  },
  {
   "cell_type": "markdown",
   "metadata": {},
   "source": [
    "|날짜|\n",
    "|---------:|\n",
    "|2019.10.23.|"
   ]
  },
  {
   "cell_type": "code",
   "execution_count": 1,
   "metadata": {},
   "outputs": [],
   "source": [
    "def solution(s, n):\n",
    "    alpha = ['a','b','c','d','e','f','g','h','i','j','k','l','m',\n",
    "             'n','o','p','q','r','s','t','u','v','w','x','y','z']\n",
    "    ALPHA = list(''.join(alpha).upper())\n",
    "    answer = ''\n",
    "    s_list = list(s)\n",
    "    s_n = []\n",
    "    for i in s_list:\n",
    "        if i in alpha:\n",
    "            if alpha.index(i) + n >= len(alpha):\n",
    "                s_n.append(alpha[(alpha.index(i) + n) - len(alpha)])\n",
    "            else:\n",
    "                s_n.append(alpha[alpha.index(i) + n])\n",
    "        elif i in ALPHA:\n",
    "            if ALPHA.index(i) + n >= len(ALPHA):\n",
    "                s_n.append(ALPHA[(ALPHA.index(i) + n) - len(ALPHA)])\n",
    "            else:\n",
    "                s_n.append(ALPHA[ALPHA.index(i) + n])\n",
    "        else:\n",
    "            s_n.append(i)\n",
    "    answer = ''.join(s_n)\n",
    "    return answer"
   ]
  },
  {
   "cell_type": "code",
   "execution_count": 2,
   "metadata": {},
   "outputs": [
    {
     "data": {
      "text/plain": [
       "'d E c C'"
      ]
     },
     "execution_count": 2,
     "metadata": {},
     "output_type": "execute_result"
    }
   ],
   "source": [
    "solution('a B z Z', 3)"
   ]
  },
  {
   "cell_type": "code",
   "execution_count": null,
   "metadata": {},
   "outputs": [],
   "source": []
  }
 ],
 "metadata": {
  "kernelspec": {
   "display_name": "Python 3",
   "language": "python",
   "name": "python3"
  },
  "language_info": {
   "codemirror_mode": {
    "name": "ipython",
    "version": 3
   },
   "file_extension": ".py",
   "mimetype": "text/x-python",
   "name": "python",
   "nbconvert_exporter": "python",
   "pygments_lexer": "ipython3",
   "version": "3.7.3"
  }
 },
 "nbformat": 4,
 "nbformat_minor": 2
}
